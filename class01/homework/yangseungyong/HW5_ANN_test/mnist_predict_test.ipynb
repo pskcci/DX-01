{
 "cells": [
  {
   "cell_type": "code",
   "execution_count": 6,
   "metadata": {},
   "outputs": [
    {
     "name": "stderr",
     "output_type": "stream",
     "text": [
      "2024-11-23 09:52:34.881225: E external/local_xla/xla/stream_executor/cuda/cuda_driver.cc:152] failed call to cuInit: INTERNAL: CUDA error: Failed call to cuInit: UNKNOWN ERROR (303)\n"
     ]
    },
    {
     "name": "stdout",
     "output_type": "stream",
     "text": [
      "\u001b[1m1/1\u001b[0m \u001b[32m━━━━━━━━━━━━━━━━━━━━\u001b[0m\u001b[37m\u001b[0m \u001b[1m0s\u001b[0m 56ms/step\n",
      "[5 0 4 1 9 2 1 3 1 4]\n",
      " * Prediction,  [5 0 4 1 9 2 1 3 1 4]\n"
     ]
    }
   ],
   "source": [
    "import tensorflow as tf\n",
    "from tensorflow import keras\n",
    "from keras.models import load_model\n",
    "import matplotlib.pyplot as plt\n",
    "import numpy as np\n",
    "import cv2\n",
    "\n",
    "\n",
    "model = tf.keras.models.load_model('./mnist.keras')\n",
    "mnist = tf.keras.datasets.mnist\n",
    "(f_image_train, f_label_train), (f_image_test, f_label_test) = mnist.load_data()\n",
    "\n",
    "f_image_train, f_image_test = f_image_train / 255.0, f_image_test / 255.0\n",
    "\n",
    "num = 10\n",
    "\n",
    "\n",
    "predict = model.predict(f_image_train[:num])\n",
    "print(f_label_train[:num])\n",
    "print(\" * Prediction, \", np.argmax(predict, axis=1))\n",
    "\n"
   ]
  },
  {
   "cell_type": "code",
   "execution_count": 4,
   "metadata": {},
   "outputs": [
    {
     "name": "stdout",
     "output_type": "stream",
     "text": [
      "Requirement already satisfied: keras in ./.venv/lib/python3.10/site-packages (3.6.0)\n",
      "Requirement already satisfied: packaging in ./.venv/lib/python3.10/site-packages (from keras) (24.2)\n",
      "Requirement already satisfied: namex in ./.venv/lib/python3.10/site-packages (from keras) (0.0.8)\n",
      "Requirement already satisfied: rich in ./.venv/lib/python3.10/site-packages (from keras) (13.9.4)\n",
      "Requirement already satisfied: h5py in ./.venv/lib/python3.10/site-packages (from keras) (3.12.1)\n",
      "Requirement already satisfied: optree in ./.venv/lib/python3.10/site-packages (from keras) (0.13.1)\n",
      "Requirement already satisfied: absl-py in ./.venv/lib/python3.10/site-packages (from keras) (2.1.0)\n",
      "Requirement already satisfied: ml-dtypes in ./.venv/lib/python3.10/site-packages (from keras) (0.4.1)\n",
      "Requirement already satisfied: numpy in ./.venv/lib/python3.10/site-packages (from keras) (2.0.2)\n",
      "Requirement already satisfied: typing-extensions>=4.5.0 in ./.venv/lib/python3.10/site-packages (from optree->keras) (4.12.2)\n",
      "Requirement already satisfied: markdown-it-py>=2.2.0 in ./.venv/lib/python3.10/site-packages (from rich->keras) (3.0.0)\n",
      "Requirement already satisfied: pygments<3.0.0,>=2.13.0 in ./.venv/lib/python3.10/site-packages (from rich->keras) (2.18.0)\n",
      "Requirement already satisfied: mdurl~=0.1 in ./.venv/lib/python3.10/site-packages (from markdown-it-py>=2.2.0->rich->keras) (0.1.2)\n",
      "Note: you may need to restart the kernel to use updated packages.\n"
     ]
    }
   ],
   "source": [
    "pip install keras"
   ]
  },
  {
   "cell_type": "code",
   "execution_count": null,
   "metadata": {},
   "outputs": [],
   "source": []
  }
 ],
 "metadata": {
  "kernelspec": {
   "display_name": ".venv",
   "language": "python",
   "name": "python3"
  },
  "language_info": {
   "codemirror_mode": {
    "name": "ipython",
    "version": 3
   },
   "file_extension": ".py",
   "mimetype": "text/x-python",
   "name": "python",
   "nbconvert_exporter": "python",
   "pygments_lexer": "ipython3",
   "version": "3.10.12"
  }
 },
 "nbformat": 4,
 "nbformat_minor": 2
}
