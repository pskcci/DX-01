{
 "cells": [
  {
   "cell_type": "code",
   "execution_count": 2,
   "metadata": {},
   "outputs": [],
   "source": [
    "import numpy as np \n",
    "\n",
    "def sigmoid(x):\n",
    "    return 1/(1+np.exp(x))"
   ]
  },
  {
   "cell_type": "code",
   "execution_count": 1,
   "metadata": {},
   "outputs": [],
   "source": [
    "def numerical_derivative(f,x):\n",
    "    dx = 1e-4\n",
    "    gradf = np.zeros_like(x)\n",
    "\n",
    "    it = np.nditer(x, flags = ['multi_index'], op_flags=['readwrite'] )\n",
    "    \n",
    "    while not it.finished:\n",
    "        idx = it.multi_index\n",
    "        tmp_val = x[idx]\n",
    "        x[idx] = float((tmp_val)+dx)\n",
    "        fx1 = f(x)\n",
    "\n",
    "        x[idx] = float((tmp_val)-dx)\n",
    "        fx2 =f(x)\n",
    "        gradf[idx] = (fx1-fx2)/(2*dx)\n",
    "\n",
    "        x[idx] = tmp_val\n",
    "        it.iternext()\n",
    "    return gradf\n"
   ]
  },
  {
   "cell_type": "code",
   "execution_count": null,
   "metadata": {},
   "outputs": [],
   "source": [
    "class logicGate:\n",
    "    def __init__(self, gate_name, xdata, tdata, learning_rate=0.01, threshold =0.5):\n",
    "        self.name = gate_name\n",
    "\n",
    "        self.__xdata = xdata.reshape(4,2)\n",
    "        self.__tdata = tdata.reshape(4,1)\n",
    "\n",
    "        self.__w = np.random.rand(2,1)\n",
    "        self.__b = np.random.rand(1)\n",
    "\n",
    "        self.__learning_rate = learning_rate\n",
    "        self.__threshold = threshold\n",
    "\n",
    "    def __loss_func(self):\n",
    "        delta = 1e-7\n",
    "\n",
    "        z = np.dot(self.__xdata, self.__w) + self.__b\n",
    "        y = sigmoid(z)\n",
    "\n",
    "        return -np.sum(self.__tdata*np.log(y+delta) + (1-self.__tdata)*np.log( (1-y) + delta))\n",
    "    \n",
    "    def err_val(self):\n",
    "        delta = 1e-7\n",
    "        z = np.dot(self.__xdata, self.__w) + self.__b\n",
    "        y = sigmoid(z)\n",
    "        return -np.sum(self.__tdata+np.log(y+delta) + (1-self.__tdata)*np.log( (1-y) + delta))\n",
    "    # check\n",
    " \n",
    "    def train(self):\n",
    "        f = lambda x : self.__loss_func()\n",
    "        print(\"init error :\",  self.err_val())\n",
    "\n",
    "        for stp in range(20000):\n",
    "            self.__w -= self.__learning_rate * numerical_derivative(f, self.__w)\n",
    "            self.__b -= self.__learning_rate * numerical_derivative(f, self.__b)\n",
    "            if (stp % 2000 == 0):\n",
    "                print(\"step : \", stp, \"\\\\\" ,\"error : \", self.err_val(), f)\n",
    "\n",
    "    def predict(self, input_data):\n",
    "        z = np.dot(input_data, self.__w) + self.__b\n",
    "        y = sigmoid(z)\n",
    "\n",
    "        if y[0] > self.__threshold:\n",
    "            result =1\n",
    "        else:\n",
    "            result = 0\n",
    "        return y, result"
   ]
  },
  {
   "cell_type": "code",
   "execution_count": 13,
   "metadata": {},
   "outputs": [
    {
     "name": "stdout",
     "output_type": "stream",
     "text": [
      "init error : 6.2023568515918015\n",
      "step :  0 \\ error :  6.180225048327989 <function logicGate.train.<locals>.<lambda> at 0x7d10ab5dd1b0>\n",
      "step :  2000 \\ error :  7.419773858488256 <function logicGate.train.<locals>.<lambda> at 0x7d10ab5dd1b0>\n",
      "step :  4000 \\ error :  9.767261299385808 <function logicGate.train.<locals>.<lambda> at 0x7d10ab5dd1b0>\n",
      "step :  6000 \\ error :  11.422692489355905 <function logicGate.train.<locals>.<lambda> at 0x7d10ab5dd1b0>\n",
      "step :  8000 \\ error :  12.691368108873068 <function logicGate.train.<locals>.<lambda> at 0x7d10ab5dd1b0>\n",
      "step :  10000 \\ error :  13.716215968232214 <function logicGate.train.<locals>.<lambda> at 0x7d10ab5dd1b0>\n",
      "step :  12000 \\ error :  14.574153761081869 <function logicGate.train.<locals>.<lambda> at 0x7d10ab5dd1b0>\n",
      "step :  14000 \\ error :  15.310995055274027 <function logicGate.train.<locals>.<lambda> at 0x7d10ab5dd1b0>\n",
      "step :  16000 \\ error :  15.956110869431706 <function logicGate.train.<locals>.<lambda> at 0x7d10ab5dd1b0>\n",
      "step :  18000 \\ error :  16.5294056296319 <function logicGate.train.<locals>.<lambda> at 0x7d10ab5dd1b0>\n",
      "[0 0]  :  0\n",
      "[0 1]  :  0\n",
      "[1 0]  :  0\n",
      "[1 1]  :  1\n"
     ]
    }
   ],
   "source": [
    "xdata = np.array([[0,0],[0,1],[1,0],[1,1]])\n",
    "tdata = np.array([[0,0,0,1]])\n",
    "\n",
    "AND = logicGate(\"AND\", xdata, tdata)\n",
    "AND.train()\n",
    "for in_data in xdata:\n",
    "    (sig_val, logic_val) = AND.predict(in_data)\n",
    "    print(in_data, \" : \", logic_val)\n",
    "\n"
   ]
  },
  {
   "cell_type": "code",
   "execution_count": 14,
   "metadata": {},
   "outputs": [
    {
     "name": "stdout",
     "output_type": "stream",
     "text": [
      "init error : 2.6486734562973933\n",
      "step :  0 \\ error :  2.5564599106383064 <function logicGate.train.<locals>.<lambda> at 0x7d10ab5dcd30>\n",
      "step :  2000 \\ error :  -1.0776893320473406 <function logicGate.train.<locals>.<lambda> at 0x7d10ab5dcd30>\n",
      "step :  4000 \\ error :  -0.690693464310365 <function logicGate.train.<locals>.<lambda> at 0x7d10ab5dcd30>\n",
      "step :  6000 \\ error :  -0.38469561686706033 <function logicGate.train.<locals>.<lambda> at 0x7d10ab5dcd30>\n",
      "step :  8000 \\ error :  -0.1430710977008306 <function logicGate.train.<locals>.<lambda> at 0x7d10ab5dcd30>\n",
      "step :  10000 \\ error :  0.05455030189919985 <function logicGate.train.<locals>.<lambda> at 0x7d10ab5dcd30>\n",
      "step :  12000 \\ error :  0.22109387608489706 <function logicGate.train.<locals>.<lambda> at 0x7d10ab5dcd30>\n",
      "step :  14000 \\ error :  0.36474376692480237 <function logicGate.train.<locals>.<lambda> at 0x7d10ab5dcd30>\n",
      "step :  16000 \\ error :  0.49090533396813296 <function logicGate.train.<locals>.<lambda> at 0x7d10ab5dcd30>\n",
      "step :  18000 \\ error :  0.6033046193299707 <function logicGate.train.<locals>.<lambda> at 0x7d10ab5dcd30>\n",
      "[0 0]  :  0\n",
      "[0 1]  :  1\n",
      "[1 0]  :  1\n",
      "[1 1]  :  1\n"
     ]
    }
   ],
   "source": [
    "xdata = np.array([[0,0],[0,1],[1,0],[1,1]])\n",
    "tdata = np.array([[0,1,1,1]])\n",
    "\n",
    "OR = logicGate(\"OR\", xdata, tdata)\n",
    "OR.train()\n",
    "for in_data in xdata:\n",
    "    (sig_val, logic_val) = OR.predict(in_data)\n",
    "    print(in_data, \" : \", logic_val)\n"
   ]
  },
  {
   "cell_type": "code",
   "execution_count": 15,
   "metadata": {},
   "outputs": [
    {
     "name": "stdout",
     "output_type": "stream",
     "text": [
      "init error : 1.7953425022249372\n",
      "step :  0 \\ error :  1.7438878376829359 <function logicGate.train.<locals>.<lambda> at 0x7d10ab5dd630>\n",
      "step :  2000 \\ error :  -0.9224759227816302 <function logicGate.train.<locals>.<lambda> at 0x7d10ab5dd630>\n",
      "step :  4000 \\ error :  -0.7130630259964019 <function logicGate.train.<locals>.<lambda> at 0x7d10ab5dd630>\n",
      "step :  6000 \\ error :  -0.49816381654253217 <function logicGate.train.<locals>.<lambda> at 0x7d10ab5dd630>\n",
      "step :  8000 \\ error :  -0.30960875677115407 <function logicGate.train.<locals>.<lambda> at 0x7d10ab5dd630>\n",
      "step :  10000 \\ error :  -0.14607856124165863 <function logicGate.train.<locals>.<lambda> at 0x7d10ab5dd630>\n",
      "step :  12000 \\ error :  -0.003032635106468007 <function logicGate.train.<locals>.<lambda> at 0x7d10ab5dd630>\n",
      "step :  14000 \\ error :  0.12355699702105172 <function logicGate.train.<locals>.<lambda> at 0x7d10ab5dd630>\n",
      "step :  16000 \\ error :  0.23683132971419374 <function logicGate.train.<locals>.<lambda> at 0x7d10ab5dd630>\n",
      "step :  18000 \\ error :  0.3391881977219109 <function logicGate.train.<locals>.<lambda> at 0x7d10ab5dd630>\n",
      "[0 0]  :  1\n",
      "[0 1]  :  1\n",
      "[1 0]  :  1\n",
      "[1 1]  :  0\n"
     ]
    }
   ],
   "source": [
    "xdata = np.array([[0,0],[0,1],[1,0],[1,1]])\n",
    "tdata = np.array([[1,1,1,0]])\n",
    "\n",
    "NAND = logicGate(\"NAND\", xdata, tdata)\n",
    "NAND.train()\n",
    "for in_data in xdata:\n",
    "    (sig_val, logic_val) = NAND.predict(in_data)\n",
    "    print(in_data, \" : \", logic_val)\n"
   ]
  },
  {
   "cell_type": "code",
   "execution_count": 16,
   "metadata": {},
   "outputs": [
    {
     "name": "stdout",
     "output_type": "stream",
     "text": [
      "init error : 4.728012374579468\n",
      "step :  0 \\ error :  4.682049184742283 <function logicGate.train.<locals>.<lambda> at 0x7d10ab5dcd30>\n",
      "step :  2000 \\ error :  2.155665225923396 <function logicGate.train.<locals>.<lambda> at 0x7d10ab5dcd30>\n",
      "step :  4000 \\ error :  2.158737087674211 <function logicGate.train.<locals>.<lambda> at 0x7d10ab5dcd30>\n",
      "step :  6000 \\ error :  2.1588756779926106 <function logicGate.train.<locals>.<lambda> at 0x7d10ab5dcd30>\n",
      "step :  8000 \\ error :  2.1588816179654233 <function logicGate.train.<locals>.<lambda> at 0x7d10ab5dcd30>\n",
      "step :  10000 \\ error :  2.1588818720103884 <function logicGate.train.<locals>.<lambda> at 0x7d10ab5dcd30>\n",
      "step :  12000 \\ error :  2.1588818828743053 <function logicGate.train.<locals>.<lambda> at 0x7d10ab5dcd30>\n",
      "step :  14000 \\ error :  2.1588818833390104 <function logicGate.train.<locals>.<lambda> at 0x7d10ab5dcd30>\n",
      "step :  16000 \\ error :  2.158881883356752 <function logicGate.train.<locals>.<lambda> at 0x7d10ab5dcd30>\n",
      "step :  18000 \\ error :  2.158881883356752 <function logicGate.train.<locals>.<lambda> at 0x7d10ab5dcd30>\n",
      "[0 0]  :  1\n",
      "[0 1]  :  1\n",
      "[1 0]  :  1\n",
      "[1 1]  :  0\n"
     ]
    }
   ],
   "source": [
    "xdata = np.array([[0,0],[0,1],[1,0],[1,1]])\n",
    "tdata = np.array([[0,1,1,0]])\n",
    "\n",
    "XOR = logicGate(\"XOR\", xdata, tdata)\n",
    "XOR.train()\n",
    "for in_data in xdata:\n",
    "    (sig_val, logic_val) = XOR.predict(in_data)\n",
    "    print(in_data, \" : \", logic_val)\n"
   ]
  },
  {
   "cell_type": "code",
   "execution_count": null,
   "metadata": {},
   "outputs": [],
   "source": []
  }
 ],
 "metadata": {
  "kernelspec": {
   "display_name": ".venv",
   "language": "python",
   "name": "python3"
  },
  "language_info": {
   "codemirror_mode": {
    "name": "ipython",
    "version": 3
   },
   "file_extension": ".py",
   "mimetype": "text/x-python",
   "name": "python",
   "nbconvert_exporter": "python",
   "pygments_lexer": "ipython3",
   "version": "3.10.12"
  }
 },
 "nbformat": 4,
 "nbformat_minor": 2
}
