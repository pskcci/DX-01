{
 "cells": [
  {
   "cell_type": "markdown",
   "metadata": {},
   "source": [
    "## 실습 1. 튜플형 데이터 (A, B)를 만들고 C를 추가한다."
   ]
  },
  {
   "cell_type": "code",
   "execution_count": 10,
   "metadata": {},
   "outputs": [
    {
     "data": {
      "text/plain": [
       "('A', 'B', 'C')"
      ]
     },
     "execution_count": 10,
     "metadata": {},
     "output_type": "execute_result"
    }
   ],
   "source": [
    "tp = ('A', 'B', )\n",
    "lst = list(tp)\n",
    "lst.append('C')\n",
    "tp = tuple(lst)\n",
    "tp"
   ]
  },
  {
   "cell_type": "code",
   "execution_count": null,
   "metadata": {},
   "outputs": [
    {
     "data": {
      "text/plain": [
       "('A', 'B', 'C')"
      ]
     },
     "execution_count": 4,
     "metadata": {},
     "output_type": "execute_result"
    }
   ],
   "source": [
    "# 풀이\n",
    "A = (\"A\", \"B\", )\n",
    "B = (\"C\", )\n",
    "C = A + B\n",
    "C"
   ]
  },
  {
   "cell_type": "markdown",
   "metadata": {},
   "source": [
    "## 실습 2. 정수 n을 입력받아 n x n 크기의 숫자 사각형을 출력"
   ]
  },
  {
   "cell_type": "code",
   "execution_count": 28,
   "metadata": {},
   "outputs": [
    {
     "name": "stdout",
     "output_type": "stream",
     "text": [
      "[[1, 2, 3, 4], [5, 6, 7, 8], [9, 10, 11, 12], [13, 14, 15, 16]]\n"
     ]
    }
   ],
   "source": [
    "n = int(input(\"정수를 입력하시오. \"))\n",
    "result = []  # 결과를 저장할 리스트\n",
    "temp = 1\n",
    "\n",
    "for i in range(n):\n",
    "    row = []  # 각 행을 저장할 리스트\n",
    "    for j in range(n):\n",
    "        row.append(temp)  # 현재 숫자를 행에 추가\n",
    "        temp += 1\n",
    "    result.append(row)  # 행을 리스트 형태로 결과 리스트에 추가\n",
    "\n",
    "# 결과 출력\n",
    "print(result)"
   ]
  },
  {
   "cell_type": "code",
   "execution_count": null,
   "metadata": {},
   "outputs": [
    {
     "name": "stdout",
     "output_type": "stream",
     "text": [
      "[[ 0.  1.  2.  3.]\n",
      " [ 4.  5.  6.  7.]\n",
      " [ 8.  9. 10. 11.]\n",
      " [12. 13. 14. 15.]]\n"
     ]
    }
   ],
   "source": [
    "# 풀이\n",
    "import numpy as np\n",
    "\n",
    "n = int(input())\n",
    "A = np.zeros((n, n))\n",
    "for i in range(n):\n",
    "    for j in range(n):\n",
    "        A[i, j] = i*n + j\n",
    "print(A)"
   ]
  },
  {
   "cell_type": "markdown",
   "metadata": {},
   "source": [
    "## 실습 3. 실습 2에서 수행한 결과를 reshape을 이용해서 1차원 형태로 변환한다."
   ]
  },
  {
   "cell_type": "code",
   "execution_count": 29,
   "metadata": {},
   "outputs": [
    {
     "name": "stdout",
     "output_type": "stream",
     "text": [
      "[ 1  2  3  4  5  6  7  8  9 10 11 12 13 14 15 16]\n"
     ]
    }
   ],
   "source": [
    "import numpy as np\n",
    "\n",
    "# 결과를 NumPy 배열로 변환하고 1차원 형태로 reshape\n",
    "result_array = np.array(result)  # 2차원 배열로 변환\n",
    "reshaped_array = result_array.reshape(-1)  # 1차원 배열로 변환\n",
    "\n",
    "# 결과 출력\n",
    "print(reshaped_array)"
   ]
  },
  {
   "cell_type": "code",
   "execution_count": null,
   "metadata": {},
   "outputs": [
    {
     "name": "stdout",
     "output_type": "stream",
     "text": [
      "[ 0.  1.  2.  3.  4.  5.  6.  7.  8.  9. 10. 11. 12. 13. 14. 15.]\n"
     ]
    }
   ],
   "source": [
    "# 풀이\n",
    "B = A.reshape(-1, )\n",
    "print(B)"
   ]
  },
  {
   "cell_type": "markdown",
   "metadata": {},
   "source": [
    "## 실습 4"
   ]
  },
  {
   "cell_type": "code",
   "execution_count": 21,
   "metadata": {},
   "outputs": [
    {
     "name": "stdout",
     "output_type": "stream",
     "text": [
      "(512, 512, 3)\n",
      "(1, 512, 512, 3)\n",
      "(1, 3, 512, 512)\n"
     ]
    }
   ],
   "source": [
    "#풀이\n",
    "import cv2\n",
    "\n",
    "### transpos\n",
    "image = cv2.imread('Lenna.png', cv2.COLOR_BGR2RGB)\n",
    "print(image.shape)\n",
    "#### expand dims\n",
    "image_exp = np.expand_dims(image, 0)\n",
    "print(image_exp.shape)\n",
    "image_tr = np.transpose(image_exp, [0, 3, 1, 2])\n",
    "print(image_tr.shape)"
   ]
  },
  {
   "cell_type": "markdown",
   "metadata": {},
   "source": [
    "## 실습 5"
   ]
  },
  {
   "cell_type": "code",
   "execution_count": null,
   "metadata": {},
   "outputs": [
    {
     "name": "stdout",
     "output_type": "stream",
     "text": [
      "[[ 1  1  1]\n",
      " [ 1 -8  1]\n",
      " [ 1  1  1]]\n"
     ]
    },
    {
     "name": "stderr",
     "output_type": "stream",
     "text": [
      "qt.qpa.plugin: Could not find the Qt platform plugin \"wayland\" in \"/home/intel/.venv/lib/python3.12/site-packages/cv2/qt/plugins\"\n"
     ]
    }
   ],
   "source": [
    "import cv2\n",
    "import numpy as np\n",
    "\n",
    "img = cv2.imread('Lenna.png', cv2.IMREAD_GRAYSCALE)\n",
    "kernel = np.array([[1, 1, 1], [1, -8, 1], [1, 1, 1]])\n",
    "print(kernel)\n",
    "output = cv2.filter2D(img, -1, kernel)\n",
    "cv2.imshow('edge', output)\n",
    "cv2.waitKey(0)"
   ]
  }
 ],
 "metadata": {
  "kernelspec": {
   "display_name": ".venv",
   "language": "python",
   "name": "python3"
  },
  "language_info": {
   "codemirror_mode": {
    "name": "ipython",
    "version": 3
   },
   "file_extension": ".py",
   "mimetype": "text/x-python",
   "name": "python",
   "nbconvert_exporter": "python",
   "pygments_lexer": "ipython3",
   "version": "3.12.3"
  }
 },
 "nbformat": 4,
 "nbformat_minor": 2
}
