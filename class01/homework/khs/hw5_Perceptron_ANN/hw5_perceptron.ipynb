{
 "cells": [
  {
   "cell_type": "code",
   "execution_count": 1,
   "metadata": {},
   "outputs": [],
   "source": [
    "import numpy as np\n",
    "# define Unit Step Function\n",
    "def sigmoid(x):\n",
    "    return 1/(1+np.exp(x))"
   ]
  },
  {
   "cell_type": "code",
   "execution_count": 2,
   "metadata": {},
   "outputs": [],
   "source": [
    "def numerical_derivative(f, x):\n",
    "    dx = 1e-4\n",
    "    gradf = np.zeros_like(x)\n",
    "\n",
    "    it = np.nditer(x, flags = ['multi_index'], op_flags=['readwrite'])\n",
    "\n",
    "    while not it.finished:\n",
    "        idx = it.multi_index\n",
    "        tmp_val = x[idx]\n",
    "        x[idx] = float((tmp_val)+dx)\n",
    "        fx1 = f(x)\n",
    "        \n",
    "        x[idx] = float((tmp_val)-dx)\n",
    "        fx2 = f(x)\n",
    "        gradf[idx] = (fx1-fx2)/(2*dx)\n",
    "        \n",
    "        x[idx] = tmp_val\n",
    "        it.iternext()\n",
    "    return gradf"
   ]
  },
  {
   "cell_type": "code",
   "execution_count": 4,
   "metadata": {},
   "outputs": [],
   "source": [
    "class logicGate:\n",
    "    def __init__(self, gate_name, xdata, tdata, learning_rate=0.01, threshold=0.5):\n",
    "        self.name = gate_name\n",
    "        \n",
    "        self.__xdata=xdata.reshape(4,2)\n",
    "        self.__tdata=tdata.reshape(4,1)\n",
    "        \n",
    "        self.__w=np.random.rand(2,1)\n",
    "        self.__b=np.random.rand(1)\n",
    "        \n",
    "        self.__learning_rate = learning_rate\n",
    "        \n",
    "        self.__threshold = threshold\n",
    "    def __loss_func(self):\n",
    "        delta = 1e-7\n",
    "        \n",
    "        z = np.dot(self.__xdata, self.__w) + self.__b\n",
    "        y = sigmoid(z)\n",
    "        \n",
    "        return -np.sum(self.__tdata*np.log(y+delta) + (1-self.__tdata)*np.log((1-y)+delta))\n",
    "    \n",
    "    def err_val(self):\n",
    "        delta = 1e-7\n",
    "        \n",
    "        z = np.dot(self.__xdata, self.__w)+self.__b\n",
    "        y = sigmoid(z)\n",
    "        \n",
    "        return -np.sum(self.__tdata + np.log(y+delta) + (1-self.__tdata)*np.log((1-y)+delta))\n",
    "    def train(self):\n",
    "        f = lambda x : self.__loss_func()\n",
    "        print(\"init error : \", self.err_val())\n",
    "        \n",
    "        for stp in range(20000):\n",
    "            self.__w -= self.__learning_rate * numerical_derivative(f, self.__w)\n",
    "            self.__b -= self.__learning_rate * numerical_derivative(f, self.__b)\n",
    "            if (stp % 2000 == 0):\n",
    "                print(\"step : \", stp, \"error : \", self.err_val(), f)\n",
    "    \n",
    "    def predict(self, input_data):\n",
    "        z = np.dot(input_data, self.__w) + self.__b\n",
    "        y = sigmoid(z)\n",
    "        if y[0] > self.__threshold:\n",
    "            result = 1\n",
    "        else:\n",
    "            result = 0\n",
    "        return y, result"
   ]
  },
  {
   "cell_type": "markdown",
   "metadata": {},
   "source": [
    "## AND, OR"
   ]
  },
  {
   "cell_type": "code",
   "execution_count": null,
   "metadata": {},
   "outputs": [
    {
     "name": "stdout",
     "output_type": "stream",
     "text": [
      "init error :  6.306478883553867\n",
      "step :  0 error :  6.28271400855767 <function logicGate.train.<locals>.<lambda> at 0x7a6a9bf13920>\n",
      "step :  2000 error :  7.468606375547604 <function logicGate.train.<locals>.<lambda> at 0x7a6a9bf13920>\n",
      "step :  4000 error :  9.799990891752532 <function logicGate.train.<locals>.<lambda> at 0x7a6a9bf13920>\n",
      "step :  6000 error :  11.446978564046487 <function logicGate.train.<locals>.<lambda> at 0x7a6a9bf13920>\n",
      "step :  8000 error :  12.71057458813603 <function logicGate.train.<locals>.<lambda> at 0x7a6a9bf13920>\n",
      "step :  10000 error :  13.732057027486304 <function logicGate.train.<locals>.<lambda> at 0x7a6a9bf13920>\n",
      "step :  12000 error :  14.587610730501186 <function logicGate.train.<locals>.<lambda> at 0x7a6a9bf13920>\n",
      "step :  14000 error :  15.322678656997208 <function logicGate.train.<locals>.<lambda> at 0x7a6a9bf13920>\n",
      "step :  16000 error :  15.966425573505662 <function logicGate.train.<locals>.<lambda> at 0x7a6a9bf13920>\n",
      "step :  18000 error :  16.538632472787526 <function logicGate.train.<locals>.<lambda> at 0x7a6a9bf13920>\n",
      "[0 0]  :  0\n",
      "[0 1]  :  0\n",
      "[1 0]  :  0\n",
      "[1 1]  :  1\n",
      "init error :  1.6781080678574993\n",
      "step :  0 error :  1.609521547667023 <function logicGate.train.<locals>.<lambda> at 0x7a6a9bf13920>\n",
      "step :  2000 error :  -1.0741046186567735 <function logicGate.train.<locals>.<lambda> at 0x7a6a9bf13920>\n",
      "step :  4000 error :  -0.6876421583433073 <function logicGate.train.<locals>.<lambda> at 0x7a6a9bf13920>\n",
      "step :  6000 error :  -0.3823210201196995 <function logicGate.train.<locals>.<lambda> at 0x7a6a9bf13920>\n",
      "step :  8000 error :  -0.1411605830708158 <function logicGate.train.<locals>.<lambda> at 0x7a6a9bf13920>\n",
      "step :  10000 error :  0.056139374883808935 <function logicGate.train.<locals>.<lambda> at 0x7a6a9bf13920>\n",
      "step :  12000 error :  0.222450607430432 <function logicGate.train.<locals>.<lambda> at 0x7a6a9bf13920>\n",
      "step :  14000 error :  0.3659258180427636 <function logicGate.train.<locals>.<lambda> at 0x7a6a9bf13920>\n",
      "step :  16000 error :  0.4919517077880692 <function logicGate.train.<locals>.<lambda> at 0x7a6a9bf13920>\n",
      "step :  18000 error :  0.6042427694407838 <function logicGate.train.<locals>.<lambda> at 0x7a6a9bf13920>\n",
      "[0 0]  :  0\n",
      "[0 1]  :  1\n",
      "[1 0]  :  1\n",
      "[1 1]  :  1\n"
     ]
    }
   ],
   "source": [
    "# AND\n",
    "xdata = np.array([[0,0], [0,1], [1,0], [1,1]])\n",
    "tdata = np.array([[0,0,0,1]])\n",
    "AND = logicGate(\"AND\", xdata, tdata)\n",
    "AND.train()\n",
    "for in_data in xdata:\n",
    "    (sig_val, logic_val) = AND.predict(in_data)\n",
    "    print(in_data , \" : \", logic_val)\n",
    "\n",
    "# OR\n",
    "xdata = np.array([[0,0],[0,1],[1,0],[1,1]])\n",
    "tdata = np.array([[0,1,1,1]])\n",
    "OR = logicGate(\"OR\", xdata, tdata)\n",
    "OR.train()\n",
    "for in_data in xdata:\n",
    "    (sig_val, logic_val) = OR.predict(in_data)\n",
    "    print(in_data , \" : \", logic_val)"
   ]
  },
  {
   "cell_type": "markdown",
   "metadata": {},
   "source": [
    "## NAND, XOR"
   ]
  },
  {
   "cell_type": "code",
   "execution_count": null,
   "metadata": {},
   "outputs": [
    {
     "name": "stdout",
     "output_type": "stream",
     "text": [
      "init error :  3.6758460491588094\n",
      "step :  0 error :  3.589031481517815 <function logicGate.train.<locals>.<lambda> at 0x7a6a9bf80cc0>\n",
      "step :  2000 error :  -0.929373567440059 <function logicGate.train.<locals>.<lambda> at 0x7a6a9bf80cc0>\n",
      "step :  4000 error :  -0.7233835777821813 <function logicGate.train.<locals>.<lambda> at 0x7a6a9bf80cc0>\n",
      "step :  6000 error :  -0.5074814923666477 <function logicGate.train.<locals>.<lambda> at 0x7a6a9bf80cc0>\n",
      "step :  8000 error :  -0.31768533408646915 <function logicGate.train.<locals>.<lambda> at 0x7a6a9bf80cc0>\n",
      "step :  10000 error :  -0.1531046444518358 <function logicGate.train.<locals>.<lambda> at 0x7a6a9bf80cc0>\n",
      "step :  12000 error :  -0.009213217788421879 <function logicGate.train.<locals>.<lambda> at 0x7a6a9bf80cc0>\n",
      "step :  14000 error :  0.11805681849802818 <function logicGate.train.<locals>.<lambda> at 0x7a6a9bf80cc0>\n",
      "step :  16000 error :  0.23188509642879662 <function logicGate.train.<locals>.<lambda> at 0x7a6a9bf80cc0>\n",
      "step :  18000 error :  0.3346993321414069 <function logicGate.train.<locals>.<lambda> at 0x7a6a9bf80cc0>\n",
      "[0 0]  :  1\n",
      "[0 1]  :  1\n",
      "[1 0]  :  1\n",
      "[1 1]  :  0\n",
      "init error :  3.906423477481931\n",
      "step :  0 error :  3.8734201151412613 <function logicGate.train.<locals>.<lambda> at 0x7a6aa02a4360>\n",
      "step :  2000 error :  2.156778134173082 <function logicGate.train.<locals>.<lambda> at 0x7a6aa02a4360>\n",
      "step :  4000 error :  2.1587888748857997 <function logicGate.train.<locals>.<lambda> at 0x7a6aa02a4360>\n",
      "step :  6000 error :  2.1588779004329908 <function logicGate.train.<locals>.<lambda> at 0x7a6aa02a4360>\n",
      "step :  8000 error :  2.158881713021292 <function logicGate.train.<locals>.<lambda> at 0x7a6aa02a4360>\n",
      "step :  10000 error :  2.15888187607585 <function logicGate.train.<locals>.<lambda> at 0x7a6aa02a4360>\n",
      "step :  12000 error :  2.1588818830490597 <function logicGate.train.<locals>.<lambda> at 0x7a6aa02a4360>\n",
      "step :  14000 error :  2.158881883346743 <function logicGate.train.<locals>.<lambda> at 0x7a6aa02a4360>\n",
      "step :  16000 error :  2.158881883359655 <function logicGate.train.<locals>.<lambda> at 0x7a6aa02a4360>\n",
      "step :  18000 error :  2.158881883359655 <function logicGate.train.<locals>.<lambda> at 0x7a6aa02a4360>\n",
      "[0 0]  :  1\n",
      "[0 1]  :  1\n",
      "[1 0]  :  0\n",
      "[1 1]  :  0\n"
     ]
    }
   ],
   "source": [
    "# NAND\n",
    "xdata = np.array([[0,0], [0,1], [1,0], [1,1]])\n",
    "tdata = np.array([[1,1,1,0]])\n",
    "NAND = logicGate(\"NAND\", xdata, tdata)\n",
    "NAND.train()\n",
    "for in_data in xdata:\n",
    "    (sig_val, logic_val) = NAND.predict(in_data)\n",
    "    print(in_data , \" : \", logic_val)\n",
    "\n",
    "#XOR\n",
    "xdata = np.array([[0,0],[0,1],[1,0],[1,1]])\n",
    "tdata = np.array([[0,1,1,0]])\n",
    "XOR = logicGate(\"XOR\", xdata, tdata)\n",
    "XOR.train()\n",
    "for in_data in xdata:\n",
    "    (sig_val, logic_val) = XOR.predict(in_data)\n",
    "    print(in_data , \" : \", logic_val)"
   ]
  },
  {
   "cell_type": "code",
   "execution_count": null,
   "metadata": {},
   "outputs": [],
   "source": []
  }
 ],
 "metadata": {
  "kernelspec": {
   "display_name": ".venv",
   "language": "python",
   "name": "python3"
  },
  "language_info": {
   "codemirror_mode": {
    "name": "ipython",
    "version": 3
   },
   "file_extension": ".py",
   "mimetype": "text/x-python",
   "name": "python",
   "nbconvert_exporter": "python",
   "pygments_lexer": "ipython3",
   "version": "3.12.3"
  }
 },
 "nbformat": 4,
 "nbformat_minor": 2
}
